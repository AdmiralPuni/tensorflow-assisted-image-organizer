{
  "nbformat": 4,
  "nbformat_minor": 0,
  "metadata": {
    "colab": {
      "name": "char-2.ipynb",
      "provenance": [],
      "collapsed_sections": [],
      "mount_file_id": "1uaK-Ju0DJByIOn7jzh64d6jwjaUnVa4a",
      "authorship_tag": "ABX9TyOxUp2QXovcEwpPL50aAUjH"
    },
    "kernelspec": {
      "display_name": "Python 3",
      "name": "python3"
    },
    "language_info": {
      "name": "python"
    }
  },
  "cells": [
    {
      "cell_type": "code",
      "metadata": {
        "id": "aVgICmzMDcNL"
      },
      "source": [
        "import tensorflow as tf\n",
        "from tensorflow.keras.optimizers import RMSprop\n",
        "from tensorflow.keras.preprocessing.image import ImageDataGenerator\n",
        "from keras.callbacks import ModelCheckpoint"
      ],
      "execution_count": null,
      "outputs": []
    },
    {
      "cell_type": "code",
      "metadata": {
        "id": "3TBS2b-_Dgwi"
      },
      "source": [
        "import zipfile,os\n",
        "local_zip = '/content/holoen.zip' #change the zip filename\n",
        "zip_ref = zipfile.ZipFile(local_zip, 'r')\n",
        "zip_ref.extractall('/content')\n",
        "zip_ref.close()"
      ],
      "execution_count": null,
      "outputs": []
    },
    {
      "cell_type": "code",
      "metadata": {
        "id": "AqpkxdPJDfc4"
      },
      "source": [
        "train_dir = '/content/holoen/train' #change the middle one to the zip parent folder\n",
        "validation_dir = '/content/holoen/test' #change the middle one to the zip parent folder"
      ],
      "execution_count": null,
      "outputs": []
    },
    {
      "cell_type": "code",
      "metadata": {
        "id": "kCIp6BpyDmf0"
      },
      "source": [
        "train_datagen = ImageDataGenerator(\n",
        "                    validation_split=0.2,\n",
        "                    rescale=1./255)\n",
        " \n",
        "test_datagen = ImageDataGenerator(\n",
        "                    validation_split=0.2,\n",
        "                    rescale=1./255)"
      ],
      "execution_count": null,
      "outputs": []
    },
    {
      "cell_type": "code",
      "metadata": {
        "colab": {
          "base_uri": "https://localhost:8080/"
        },
        "id": "CC3o-OZqDn1k",
        "outputId": "f411337d-a80f-4142-aef4-d98dc5e99c93"
      },
      "source": [
        "train_generator = train_datagen.flow_from_directory(train_dir,\n",
        "                                                    class_mode='categorical',\n",
        "                                                    target_size=(150, 150),\n",
        "                                                    batch_size=32,\n",
        "                                                    shuffle=True)\n",
        "\n",
        "validation_generator = train_datagen.flow_from_directory(validation_dir,\n",
        "                                                         class_mode='categorical',\n",
        "                                                         target_size=(150, 150),\n",
        "                                                         batch_size=32,\n",
        "                                                         shuffle=True)"
      ],
      "execution_count": null,
      "outputs": [
        {
          "output_type": "stream",
          "name": "stdout",
          "text": [
            "Found 1000 images belonging to 5 classes.\n",
            "Found 200 images belonging to 5 classes.\n"
          ]
        }
      ]
    },
    {
      "cell_type": "code",
      "metadata": {
        "id": "WN5dMJqqDpEq"
      },
      "source": [
        "model = tf.keras.models.Sequential([\n",
        "    tf.keras.layers.Conv2D(32, (3, 3), activation='relu', input_shape=(150, 150, 3)),\n",
        "    tf.keras.layers.MaxPooling2D(2, 2),\n",
        "    tf.keras.layers.Conv2D(64, (3, 3), activation='relu'),\n",
        "    tf.keras.layers.MaxPooling2D(2, 2),\n",
        "    tf.keras.layers.Conv2D(128, (3, 3), activation='relu'),\n",
        "    tf.keras.layers.MaxPooling2D(2, 2),\n",
        "    tf.keras.layers.Conv2D(128, (3, 3), activation='relu'),\n",
        "    tf.keras.layers.MaxPooling2D(2, 2),\n",
        "    tf.keras.layers.Flatten(),\n",
        "    tf.keras.layers.Dense(512, activation='relu'),\n",
        "    tf.keras.layers.Dense(5, activation='softmax') #change the number to the number of characters in your zip file\n",
        "])"
      ],
      "execution_count": null,
      "outputs": []
    },
    {
      "cell_type": "code",
      "metadata": {
        "id": "KW1e6Lv3DqSc"
      },
      "source": [
        "model.compile(loss='categorical_crossentropy',\n",
        "              optimizer=tf.optimizers.Adam(),\n",
        "              metrics=['categorical_accuracy'])"
      ],
      "execution_count": null,
      "outputs": []
    },
    {
      "cell_type": "code",
      "metadata": {
        "id": "n7sWWhBYDUOC"
      },
      "source": [
        "filepath = \"/content/model-hololive-en.hdf5\"\n",
        "checkpoint = ModelCheckpoint(filepath, monitor='loss', verbose=1, save_best_only=True, mode='min')\n",
        "desired_callbacks = [checkpoint]"
      ],
      "execution_count": null,
      "outputs": []
    },
    {
      "cell_type": "code",
      "metadata": {
        "colab": {
          "base_uri": "https://localhost:8080/"
        },
        "id": "7ljhffbjDrab",
        "outputId": "dfcb3dc1-d0a9-447e-8d88-f959733e9385"
      },
      "source": [
        "model.fit(\n",
        "      train_generator,\n",
        "      steps_per_epoch=12,\n",
        "      epochs=6,\n",
        "      validation_data=validation_generator,\n",
        "      validation_steps=12,\n",
        "      verbose=1,\n",
        "      callbacks=desired_callbacks)"
      ],
      "execution_count": null,
      "outputs": [
        {
          "output_type": "stream",
          "name": "stdout",
          "text": [
            "Epoch 1/32\n",
            "12/12 [==============================] - ETA: 0s - loss: 1.6373 - categorical_accuracy: 0.1722WARNING:tensorflow:Your input ran out of data; interrupting training. Make sure that your dataset or generator can generate at least `steps_per_epoch * epochs` batches (in this case, 12 batches). You may need to use the repeat() function when building your dataset.\n",
            "12/12 [==============================] - 20s 2s/step - loss: 1.6373 - categorical_accuracy: 0.1722 - val_loss: 1.6067 - val_categorical_accuracy: 0.2000\n",
            "\n",
            "Epoch 00001: loss improved from inf to 1.63734, saving model to /content/model-hololive-en.hdf5\n",
            "Epoch 2/32\n",
            "12/12 [==============================] - 17s 1s/step - loss: 1.5857 - categorical_accuracy: 0.2396\n",
            "\n",
            "Epoch 00002: loss improved from 1.63734 to 1.58567, saving model to /content/model-hololive-en.hdf5\n",
            "Epoch 3/32\n",
            "12/12 [==============================] - 16s 1s/step - loss: 1.5488 - categorical_accuracy: 0.3306\n",
            "\n",
            "Epoch 00003: loss improved from 1.58567 to 1.54882, saving model to /content/model-hololive-en.hdf5\n",
            "Epoch 4/32\n",
            "12/12 [==============================] - 18s 1s/step - loss: 1.4327 - categorical_accuracy: 0.4167\n",
            "\n",
            "Epoch 00004: loss improved from 1.54882 to 1.43267, saving model to /content/model-hololive-en.hdf5\n",
            "Epoch 5/32\n",
            "12/12 [==============================] - 17s 1s/step - loss: 1.3144 - categorical_accuracy: 0.4714\n",
            "\n",
            "Epoch 00005: loss improved from 1.43267 to 1.31439, saving model to /content/model-hololive-en.hdf5\n",
            "Epoch 6/32\n",
            "12/12 [==============================] - 17s 1s/step - loss: 1.1364 - categorical_accuracy: 0.5365\n",
            "\n",
            "Epoch 00006: loss improved from 1.31439 to 1.13643, saving model to /content/model-hololive-en.hdf5\n",
            "Epoch 7/32\n",
            "12/12 [==============================] - 17s 1s/step - loss: 1.1028 - categorical_accuracy: 0.6172\n",
            "\n",
            "Epoch 00007: loss improved from 1.13643 to 1.10284, saving model to /content/model-hololive-en.hdf5\n",
            "Epoch 8/32\n",
            "12/12 [==============================] - 17s 1s/step - loss: 0.9832 - categorical_accuracy: 0.6406\n",
            "\n",
            "Epoch 00008: loss improved from 1.10284 to 0.98316, saving model to /content/model-hololive-en.hdf5\n",
            "Epoch 9/32\n",
            "12/12 [==============================] - 17s 1s/step - loss: 0.9691 - categorical_accuracy: 0.6016\n",
            "\n",
            "Epoch 00009: loss improved from 0.98316 to 0.96912, saving model to /content/model-hololive-en.hdf5\n",
            "Epoch 10/32\n",
            "12/12 [==============================] - 17s 1s/step - loss: 0.9603 - categorical_accuracy: 0.6745\n",
            "\n",
            "Epoch 00010: loss improved from 0.96912 to 0.96025, saving model to /content/model-hololive-en.hdf5\n",
            "Epoch 11/32\n",
            "12/12 [==============================] - 16s 1s/step - loss: 0.9140 - categorical_accuracy: 0.6861\n",
            "\n",
            "Epoch 00011: loss improved from 0.96025 to 0.91399, saving model to /content/model-hololive-en.hdf5\n",
            "Epoch 12/32\n",
            "12/12 [==============================] - 17s 1s/step - loss: 0.8602 - categorical_accuracy: 0.6875\n",
            "\n",
            "Epoch 00012: loss improved from 0.91399 to 0.86021, saving model to /content/model-hololive-en.hdf5\n",
            "Epoch 13/32\n",
            "12/12 [==============================] - 17s 1s/step - loss: 0.8115 - categorical_accuracy: 0.7083\n",
            "\n",
            "Epoch 00013: loss improved from 0.86021 to 0.81150, saving model to /content/model-hololive-en.hdf5\n",
            "Epoch 14/32\n",
            "12/12 [==============================] - 16s 1s/step - loss: 0.8104 - categorical_accuracy: 0.7167\n",
            "\n",
            "Epoch 00014: loss improved from 0.81150 to 0.81038, saving model to /content/model-hololive-en.hdf5\n",
            "Epoch 15/32\n",
            "12/12 [==============================] - 17s 1s/step - loss: 0.7944 - categorical_accuracy: 0.7344\n",
            "\n",
            "Epoch 00015: loss improved from 0.81038 to 0.79443, saving model to /content/model-hololive-en.hdf5\n",
            "Epoch 16/32\n",
            "12/12 [==============================] - 16s 1s/step - loss: 0.7037 - categorical_accuracy: 0.7500\n",
            "\n",
            "Epoch 00016: loss improved from 0.79443 to 0.70365, saving model to /content/model-hololive-en.hdf5\n",
            "Epoch 17/32\n",
            "12/12 [==============================] - 16s 1s/step - loss: 0.6037 - categorical_accuracy: 0.7722\n",
            "\n",
            "Epoch 00017: loss improved from 0.70365 to 0.60369, saving model to /content/model-hololive-en.hdf5\n",
            "Epoch 18/32\n",
            "12/12 [==============================] - 16s 1s/step - loss: 0.7437 - categorical_accuracy: 0.7500\n",
            "\n",
            "Epoch 00018: loss did not improve from 0.60369\n",
            "Epoch 19/32\n",
            "12/12 [==============================] - 17s 1s/step - loss: 0.6253 - categorical_accuracy: 0.7917\n",
            "\n",
            "Epoch 00019: loss did not improve from 0.60369\n",
            "Epoch 20/32\n",
            "12/12 [==============================] - 16s 1s/step - loss: 0.6293 - categorical_accuracy: 0.7861\n",
            "\n",
            "Epoch 00020: loss did not improve from 0.60369\n",
            "Epoch 21/32\n",
            "12/12 [==============================] - 16s 1s/step - loss: 0.5983 - categorical_accuracy: 0.7972\n",
            "\n",
            "Epoch 00021: loss improved from 0.60369 to 0.59827, saving model to /content/model-hololive-en.hdf5\n",
            "Epoch 22/32\n",
            "12/12 [==============================] - 17s 1s/step - loss: 0.5472 - categorical_accuracy: 0.8281\n",
            "\n",
            "Epoch 00022: loss improved from 0.59827 to 0.54715, saving model to /content/model-hololive-en.hdf5\n",
            "Epoch 23/32\n",
            "12/12 [==============================] - 16s 1s/step - loss: 0.5569 - categorical_accuracy: 0.8194\n",
            "\n",
            "Epoch 00023: loss did not improve from 0.54715\n",
            "Epoch 24/32\n",
            "12/12 [==============================] - 17s 1s/step - loss: 0.5207 - categorical_accuracy: 0.8411\n",
            "\n",
            "Epoch 00024: loss improved from 0.54715 to 0.52071, saving model to /content/model-hololive-en.hdf5\n",
            "Epoch 25/32\n",
            "12/12 [==============================] - 17s 1s/step - loss: 0.5177 - categorical_accuracy: 0.8281\n",
            "\n",
            "Epoch 00025: loss improved from 0.52071 to 0.51775, saving model to /content/model-hololive-en.hdf5\n",
            "Epoch 26/32\n",
            "12/12 [==============================] - 16s 1s/step - loss: 0.4494 - categorical_accuracy: 0.8639\n",
            "\n",
            "Epoch 00026: loss improved from 0.51775 to 0.44935, saving model to /content/model-hololive-en.hdf5\n",
            "Epoch 27/32\n",
            "12/12 [==============================] - 16s 1s/step - loss: 0.4132 - categorical_accuracy: 0.8694\n",
            "\n",
            "Epoch 00027: loss improved from 0.44935 to 0.41318, saving model to /content/model-hololive-en.hdf5\n",
            "Epoch 28/32\n",
            "12/12 [==============================] - 16s 1s/step - loss: 0.3696 - categorical_accuracy: 0.8806\n",
            "\n",
            "Epoch 00028: loss improved from 0.41318 to 0.36960, saving model to /content/model-hololive-en.hdf5\n",
            "Epoch 29/32\n",
            "12/12 [==============================] - 16s 1s/step - loss: 0.4452 - categorical_accuracy: 0.8611\n",
            "\n",
            "Epoch 00029: loss did not improve from 0.36960\n",
            "Epoch 30/32\n",
            "12/12 [==============================] - 17s 1s/step - loss: 0.5068 - categorical_accuracy: 0.8203\n",
            "\n",
            "Epoch 00030: loss did not improve from 0.36960\n",
            "Epoch 31/32\n",
            "12/12 [==============================] - 17s 1s/step - loss: 0.3773 - categorical_accuracy: 0.8698\n",
            "\n",
            "Epoch 00031: loss did not improve from 0.36960\n",
            "Epoch 32/32\n",
            "12/12 [==============================] - 17s 1s/step - loss: 0.2865 - categorical_accuracy: 0.9062\n",
            "\n",
            "Epoch 00032: loss improved from 0.36960 to 0.28651, saving model to /content/model-hololive-en.hdf5\n"
          ]
        },
        {
          "output_type": "execute_result",
          "data": {
            "text/plain": [
              "<keras.callbacks.History at 0x7f4fc75c1410>"
            ]
          },
          "metadata": {},
          "execution_count": 9
        }
      ]
    }
  ]
}