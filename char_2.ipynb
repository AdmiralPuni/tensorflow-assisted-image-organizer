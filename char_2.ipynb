{
  "nbformat": 4,
  "nbformat_minor": 0,
  "metadata": {
    "colab": {
      "name": "char-2.ipynb",
      "provenance": [],
      "collapsed_sections": [],
      "mount_file_id": "1uaK-Ju0DJByIOn7jzh64d6jwjaUnVa4a",
      "authorship_tag": "ABX9TyPlIB93YKGTKqSTh0uABMEw"
    },
    "kernelspec": {
      "display_name": "Python 3",
      "name": "python3"
    },
    "language_info": {
      "name": "python"
    }
  },
  "cells": [
    {
      "cell_type": "code",
      "metadata": {
        "id": "aVgICmzMDcNL"
      },
      "source": [
        "import tensorflow as tf\n",
        "from tensorflow.keras.optimizers import RMSprop\n",
        "from tensorflow.keras.preprocessing.image import ImageDataGenerator\n",
        "from keras.callbacks import ModelCheckpoint"
      ],
      "execution_count": null,
      "outputs": []
    },
    {
      "cell_type": "code",
      "metadata": {
        "id": "3TBS2b-_Dgwi"
      },
      "source": [
        "import zipfile,os\n",
        "local_zip = '/content/hololive.zip' #change the zip filename\n",
        "zip_ref = zipfile.ZipFile(local_zip, 'r')\n",
        "zip_ref.extractall('/content')\n",
        "zip_ref.close()"
      ],
      "execution_count": null,
      "outputs": []
    },
    {
      "cell_type": "code",
      "metadata": {
        "id": "AqpkxdPJDfc4"
      },
      "source": [
        "train_dir = '/content/hololive/train' #change the middle one to the zip parent folder\n",
        "validation_dir = '/content/hololive/test' #change the middle one to the zip parent folder"
      ],
      "execution_count": null,
      "outputs": []
    },
    {
      "cell_type": "code",
      "metadata": {
        "id": "kCIp6BpyDmf0"
      },
      "source": [
        "train_datagen = ImageDataGenerator(\n",
        "                    validation_split=0.2,\n",
        "                    rescale=1./255)\n",
        " \n",
        "test_datagen = ImageDataGenerator(\n",
        "                    validation_split=0.2,\n",
        "                    rescale=1./255)"
      ],
      "execution_count": null,
      "outputs": []
    },
    {
      "cell_type": "code",
      "metadata": {
        "colab": {
          "base_uri": "https://localhost:8080/"
        },
        "id": "CC3o-OZqDn1k",
        "outputId": "1d3642f5-02b0-41a2-a7d8-e2bba2668754"
      },
      "source": [
        "train_generator = train_datagen.flow_from_directory(train_dir,\n",
        "                                                    class_mode='categorical',\n",
        "                                                    target_size=(150, 150),\n",
        "                                                    batch_size=32,\n",
        "                                                    shuffle=True)\n",
        "\n",
        "validation_generator = train_datagen.flow_from_directory(validation_dir,\n",
        "                                                         class_mode='categorical',\n",
        "                                                         target_size=(150, 150),\n",
        "                                                         batch_size=32,\n",
        "                                                         shuffle=True)"
      ],
      "execution_count": null,
      "outputs": [
        {
          "output_type": "stream",
          "name": "stdout",
          "text": [
            "Found 2475 images belonging to 32 classes.\n",
            "Found 1600 images belonging to 32 classes.\n"
          ]
        }
      ]
    },
    {
      "cell_type": "code",
      "metadata": {
        "id": "WN5dMJqqDpEq"
      },
      "source": [
        "model = tf.keras.models.Sequential([\n",
        "    tf.keras.layers.Conv2D(32, (3, 3), activation='relu', input_shape=(150, 150, 3)),\n",
        "    tf.keras.layers.MaxPooling2D(2, 2),\n",
        "    tf.keras.layers.Conv2D(64, (3, 3), activation='relu'),\n",
        "    tf.keras.layers.MaxPooling2D(2, 2),\n",
        "    tf.keras.layers.Conv2D(128, (3, 3), activation='relu'),\n",
        "    tf.keras.layers.MaxPooling2D(2, 2),\n",
        "    tf.keras.layers.Conv2D(128, (3, 3), activation='relu'),\n",
        "    tf.keras.layers.MaxPooling2D(2, 2),\n",
        "    tf.keras.layers.Flatten(),\n",
        "    tf.keras.layers.Dense(512, activation='relu'),\n",
        "    tf.keras.layers.Dense(32, activation='softmax') #change the number to the number of characters in your zip file\n",
        "])"
      ],
      "execution_count": null,
      "outputs": []
    },
    {
      "cell_type": "code",
      "metadata": {
        "id": "KW1e6Lv3DqSc"
      },
      "source": [
        "model.compile(loss='categorical_crossentropy',\n",
        "              optimizer=tf.optimizers.Adam(),\n",
        "              metrics=['categorical_accuracy'])"
      ],
      "execution_count": null,
      "outputs": []
    },
    {
      "cell_type": "code",
      "metadata": {
        "id": "n7sWWhBYDUOC"
      },
      "source": [
        "filepath = \"/content/model-hololive.hdf5\" #change the model name after 'model-' to the zip filename\n",
        "checkpoint = ModelCheckpoint(filepath, monitor='loss', verbose=1, save_best_only=True, mode='min')\n",
        "desired_callbacks = [checkpoint]"
      ],
      "execution_count": null,
      "outputs": []
    },
    {
      "cell_type": "code",
      "metadata": {
        "colab": {
          "base_uri": "https://localhost:8080/"
        },
        "id": "7ljhffbjDrab",
        "outputId": "a78f8a3b-5349-40eb-8dbc-9ece9ad4be89"
      },
      "source": [
        "model.fit(\n",
        "      train_generator,\n",
        "      steps_per_epoch=8,\n",
        "      epochs=32,\n",
        "      validation_data=validation_generator,\n",
        "      validation_steps=8,\n",
        "      verbose=1,\n",
        "      callbacks=desired_callbacks)"
      ],
      "execution_count": null,
      "outputs": [
        {
          "output_type": "stream",
          "name": "stdout",
          "text": [
            "Epoch 1/32\n",
            "8/8 [==============================] - 14s 2s/step - loss: 0.4096 - categorical_accuracy: 0.8984 - val_loss: 2.3365 - val_categorical_accuracy: 0.5508\n",
            "\n",
            "Epoch 00001: loss did not improve from 0.27381\n",
            "Epoch 2/32\n",
            "8/8 [==============================] - 14s 2s/step - loss: 0.3237 - categorical_accuracy: 0.8867 - val_loss: 1.9809 - val_categorical_accuracy: 0.6016\n",
            "\n",
            "Epoch 00002: loss did not improve from 0.27381\n",
            "Epoch 3/32\n",
            "8/8 [==============================] - 14s 2s/step - loss: 0.2959 - categorical_accuracy: 0.9297 - val_loss: 2.4578 - val_categorical_accuracy: 0.5195\n",
            "\n",
            "Epoch 00003: loss did not improve from 0.27381\n",
            "Epoch 4/32\n",
            "8/8 [==============================] - 14s 2s/step - loss: 0.4570 - categorical_accuracy: 0.9023 - val_loss: 2.3499 - val_categorical_accuracy: 0.5391\n",
            "\n",
            "Epoch 00004: loss did not improve from 0.27381\n",
            "Epoch 5/32\n",
            "8/8 [==============================] - 14s 2s/step - loss: 0.3280 - categorical_accuracy: 0.8945 - val_loss: 2.7560 - val_categorical_accuracy: 0.5078\n",
            "\n",
            "Epoch 00005: loss did not improve from 0.27381\n",
            "Epoch 6/32\n",
            "8/8 [==============================] - 14s 2s/step - loss: 0.3515 - categorical_accuracy: 0.9258 - val_loss: 2.4989 - val_categorical_accuracy: 0.4922\n",
            "\n",
            "Epoch 00006: loss did not improve from 0.27381\n",
            "Epoch 7/32\n",
            "8/8 [==============================] - 14s 2s/step - loss: 0.2292 - categorical_accuracy: 0.9336 - val_loss: 2.1887 - val_categorical_accuracy: 0.5117\n",
            "\n",
            "Epoch 00007: loss improved from 0.27381 to 0.22922, saving model to /content/model-hololive.hdf5\n",
            "Epoch 8/32\n",
            "8/8 [==============================] - 14s 2s/step - loss: 0.2690 - categorical_accuracy: 0.9375 - val_loss: 2.4603 - val_categorical_accuracy: 0.5586\n",
            "\n",
            "Epoch 00008: loss did not improve from 0.22922\n",
            "Epoch 9/32\n",
            "8/8 [==============================] - 14s 2s/step - loss: 0.2806 - categorical_accuracy: 0.9375 - val_loss: 2.4386 - val_categorical_accuracy: 0.5156\n",
            "\n",
            "Epoch 00009: loss did not improve from 0.22922\n",
            "Epoch 10/32\n",
            "8/8 [==============================] - 13s 2s/step - loss: 0.3481 - categorical_accuracy: 0.9021 - val_loss: 1.9675 - val_categorical_accuracy: 0.5586\n",
            "\n",
            "Epoch 00010: loss did not improve from 0.22922\n",
            "Epoch 11/32\n",
            "8/8 [==============================] - 14s 2s/step - loss: 0.4316 - categorical_accuracy: 0.8828 - val_loss: 2.6444 - val_categorical_accuracy: 0.4883\n",
            "\n",
            "Epoch 00011: loss did not improve from 0.22922\n",
            "Epoch 12/32\n",
            "8/8 [==============================] - 14s 2s/step - loss: 0.2442 - categorical_accuracy: 0.9102 - val_loss: 2.4398 - val_categorical_accuracy: 0.5430\n",
            "\n",
            "Epoch 00012: loss did not improve from 0.22922\n",
            "Epoch 13/32\n",
            "8/8 [==============================] - 14s 2s/step - loss: 0.2769 - categorical_accuracy: 0.9219 - val_loss: 2.3900 - val_categorical_accuracy: 0.5430\n",
            "\n",
            "Epoch 00013: loss did not improve from 0.22922\n",
            "Epoch 14/32\n",
            "8/8 [==============================] - 13s 2s/step - loss: 0.2474 - categorical_accuracy: 0.9277 - val_loss: 2.5508 - val_categorical_accuracy: 0.5547\n",
            "\n",
            "Epoch 00014: loss did not improve from 0.22922\n",
            "Epoch 15/32\n",
            "8/8 [==============================] - 14s 2s/step - loss: 0.2973 - categorical_accuracy: 0.9336 - val_loss: 2.2729 - val_categorical_accuracy: 0.5703\n",
            "\n",
            "Epoch 00015: loss did not improve from 0.22922\n",
            "Epoch 16/32\n",
            "8/8 [==============================] - 13s 2s/step - loss: 0.2293 - categorical_accuracy: 0.9574 - val_loss: 2.4592 - val_categorical_accuracy: 0.5469\n",
            "\n",
            "Epoch 00016: loss did not improve from 0.22922\n",
            "Epoch 17/32\n",
            "8/8 [==============================] - 13s 2s/step - loss: 0.2988 - categorical_accuracy: 0.9191 - val_loss: 2.5654 - val_categorical_accuracy: 0.5273\n",
            "\n",
            "Epoch 00017: loss did not improve from 0.22922\n",
            "Epoch 18/32\n",
            "8/8 [==============================] - 13s 2s/step - loss: 0.2766 - categorical_accuracy: 0.9447 - val_loss: 2.2872 - val_categorical_accuracy: 0.5117\n",
            "\n",
            "Epoch 00018: loss did not improve from 0.22922\n",
            "Epoch 19/32\n",
            "8/8 [==============================] - 14s 2s/step - loss: 0.1686 - categorical_accuracy: 0.9570 - val_loss: 2.6206 - val_categorical_accuracy: 0.5391\n",
            "\n",
            "Epoch 00019: loss improved from 0.22922 to 0.16864, saving model to /content/model-hololive.hdf5\n",
            "Epoch 20/32\n",
            "8/8 [==============================] - 14s 2s/step - loss: 0.1690 - categorical_accuracy: 0.9531 - val_loss: 2.6961 - val_categorical_accuracy: 0.5469\n",
            "\n",
            "Epoch 00020: loss did not improve from 0.16864\n",
            "Epoch 21/32\n",
            "8/8 [==============================] - 14s 2s/step - loss: 0.1862 - categorical_accuracy: 0.9570 - val_loss: 2.4688 - val_categorical_accuracy: 0.5117\n",
            "\n",
            "Epoch 00021: loss did not improve from 0.16864\n",
            "Epoch 22/32\n",
            "8/8 [==============================] - 14s 2s/step - loss: 0.2259 - categorical_accuracy: 0.9297 - val_loss: 2.3987 - val_categorical_accuracy: 0.5391\n",
            "\n",
            "Epoch 00022: loss did not improve from 0.16864\n",
            "Epoch 23/32\n",
            "8/8 [==============================] - 14s 2s/step - loss: 0.1665 - categorical_accuracy: 0.9570 - val_loss: 2.5624 - val_categorical_accuracy: 0.5859\n",
            "\n",
            "Epoch 00023: loss improved from 0.16864 to 0.16645, saving model to /content/model-hololive.hdf5\n",
            "Epoch 24/32\n",
            "8/8 [==============================] - 14s 2s/step - loss: 0.2212 - categorical_accuracy: 0.9570 - val_loss: 3.0575 - val_categorical_accuracy: 0.4805\n",
            "\n",
            "Epoch 00024: loss did not improve from 0.16645\n",
            "Epoch 25/32\n",
            "8/8 [==============================] - 14s 2s/step - loss: 0.2171 - categorical_accuracy: 0.9453 - val_loss: 2.4021 - val_categorical_accuracy: 0.5820\n",
            "\n",
            "Epoch 00025: loss did not improve from 0.16645\n",
            "Epoch 26/32\n",
            "8/8 [==============================] - 14s 2s/step - loss: 0.2029 - categorical_accuracy: 0.9609 - val_loss: 2.6152 - val_categorical_accuracy: 0.5703\n",
            "\n",
            "Epoch 00026: loss did not improve from 0.16645\n",
            "Epoch 27/32\n",
            "8/8 [==============================] - 14s 2s/step - loss: 0.1702 - categorical_accuracy: 0.9531 - val_loss: 2.9641 - val_categorical_accuracy: 0.5508\n",
            "\n",
            "Epoch 00027: loss did not improve from 0.16645\n",
            "Epoch 28/32\n",
            "8/8 [==============================] - 14s 2s/step - loss: 0.1584 - categorical_accuracy: 0.9492 - val_loss: 2.9762 - val_categorical_accuracy: 0.5352\n",
            "\n",
            "Epoch 00028: loss improved from 0.16645 to 0.15842, saving model to /content/model-hololive.hdf5\n",
            "Epoch 29/32\n",
            "8/8 [==============================] - 14s 2s/step - loss: 0.1437 - categorical_accuracy: 0.9727 - val_loss: 3.3338 - val_categorical_accuracy: 0.4922\n",
            "\n",
            "Epoch 00029: loss improved from 0.15842 to 0.14372, saving model to /content/model-hololive.hdf5\n",
            "Epoch 30/32\n",
            "8/8 [==============================] - 14s 2s/step - loss: 0.1914 - categorical_accuracy: 0.9453 - val_loss: 2.7079 - val_categorical_accuracy: 0.5742\n",
            "\n",
            "Epoch 00030: loss did not improve from 0.14372\n",
            "Epoch 31/32\n",
            "8/8 [==============================] - 14s 2s/step - loss: 0.1522 - categorical_accuracy: 0.9648 - val_loss: 2.9135 - val_categorical_accuracy: 0.5508\n",
            "\n",
            "Epoch 00031: loss did not improve from 0.14372\n",
            "Epoch 32/32\n",
            "8/8 [==============================] - 14s 2s/step - loss: 0.2272 - categorical_accuracy: 0.9453 - val_loss: 2.8722 - val_categorical_accuracy: 0.5234\n",
            "\n",
            "Epoch 00032: loss did not improve from 0.14372\n"
          ]
        },
        {
          "output_type": "execute_result",
          "data": {
            "text/plain": [
              "<keras.callbacks.History at 0x7f5aeb36e7d0>"
            ]
          },
          "metadata": {},
          "execution_count": 12
        }
      ]
    }
  ]
}